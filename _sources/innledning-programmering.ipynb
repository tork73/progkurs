{
 "cells": [
  {
   "cell_type": "markdown",
   "metadata": {},
   "source": [
    "# Installasjon av Python\n",
    "\n",
    "Vi anbefaler at du laster ned Anaconda på din datamaskin. Med Anaconda får du det meste av det du trenger for å programmere.\n",
    "\n",
    "Du finner Anaconda her: https://www.anaconda.com/products/individual \n",
    "\n",
    "![anaconda](bilder/anaconda.png)\n",
    "\n",
    "Når du har installert Anaconda kan du åpne Anaconda navigator. Der finner du en rekke program som kan brukes. Noen liker å bruke Spyder, andre liker å bruke Jypyter lab. Vi vil i R1 bruke sistnevnte. \n",
    "\n",
    "Når du starter Jupyter lab vil du få mulighet til å lagen en ny «Notebook». Før du klikker på denne (3), er det lurt å bla seg gjennom til den mappen du ønsker å lagre notebook-en. (2). Det gjør du ved å først klikke på mappen øverst i margen til venstre (1).  \n",
    "\n",
    "![mappe](bilder/anaconda.png)"
   ]
  },
  {
   "cell_type": "markdown",
   "metadata": {},
   "source": [
    "Når du har installert Anaconda, kan du åpne Anaconda Navigator. Her får du oversikt over de ulike programmerene som er installert. Det er for eksempel standart at JupyterLab er med i Anaconda. \n",
    "\n",
    "![](bilder/navigator.png)\n",
    "\n",
    "\n",
    "Trykk på **Launch** og du får opp en side i nettleseren din: \n",
    "\n",
    "![](bilder/jupyterlab.png)\n",
    "\n",
    "Du behøver ikke å være på nett for å kunne bruke Jupyter Lab. \n",
    "\n",
    "Et tips er å bla deg fram til den mappen du ønsker at filen som du lagrer programmene dine i før du åpner en Notebook. Når du klikker på Python 3 under Notebook (se (2) på bildet ovenfor), så vil du få opp en fil som ser slik ut: \n",
    "\n",
    "![](bilder/jupyter2.png)\n",
    "\n",
    "Her har vi høyre-klikket på filnavnet i mappestrukturen til venstre for å kunne gi filen et passelig navn (2). \n",
    "\n",
    "JupyterLab fungerer slik at du programmerer i de ulike cellene som du kan kjøre. Du vil da få resultatet under cellen. \n",
    "\n",
    "![](bilder/jupyter3.png)\n",
    "\n",
    "Du klikker på play-knappen (2) for å kjøre programmet i den cellen du står i (1). Resultatet kommer da like nedenfor cellen (3). \n",
    "\n",
    "Nå kan du forsette og lage et nytt program i cellen nedenfor. Men husk at du fremdeles kan bruke variablene fra cellen over. Disse er lagret i minnet så lenge cellen de står i er kjørt. \n"
   ]
  },
  {
   "cell_type": "markdown",
   "metadata": {},
   "source": [
    "Det fine med Jupyter lab er at du ikke trenger å lagre underveis. Det skjer automatisk. Men det kan være en god idé å endre navnet til jupyter-filen til noe som er mer dekkende for det du gjør i notebook-en. \n",
    "\n",
    "Du kan endre navn ved å høyreklikke på filnavnet i margen til venstre.  "
   ]
  },
  {
   "cell_type": "markdown",
   "metadata": {},
   "source": []
  }
 ],
 "metadata": {
  "interpreter": {
   "hash": "d99b4b40993aa8bf34081c0eb15f3bf1ce7f31b892d31088c144d89404ac10fe"
  },
  "kernelspec": {
   "display_name": "Python 3 (ipykernel)",
   "language": "python",
   "name": "python3"
  },
  "language_info": {
   "codemirror_mode": {
    "name": "ipython",
    "version": 3
   },
   "file_extension": ".py",
   "mimetype": "text/x-python",
   "name": "python",
   "nbconvert_exporter": "python",
   "pygments_lexer": "ipython3",
   "version": "3.11.5"
  },
  "widgets": {
   "application/vnd.jupyter.widget-state+json": {
    "state": {},
    "version_major": 2,
    "version_minor": 0
   }
  }
 },
 "nbformat": 4,
 "nbformat_minor": 4
}
