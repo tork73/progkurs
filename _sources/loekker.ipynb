{
 "cells": [
  {
   "cell_type": "markdown",
   "metadata": {},
   "source": [
    "# for- og while-løkker\n",
    "\n",
    "I en «for»-løkke kan vi gjenta visse utregninger flere ganger. Vi lar ofte en variabel gjennomløpe en liste eller tilsvarende og så gjør visse operasjoner for hver av verdiene til variabelen. Om for eksempel variabelen i skal gjennomløpe tallene 0, 1, 2, 3, 4 og 5, så kan vi bruke range-funksjonen. \n",
    "\n",
    "```{admonition} range-funksjonen\n",
    "range(start, stopp [, steg]) gir oss tallene fra og med start til stopp. Steglengden er avstanden mellom hvert av tallene du får. \n",
    "\n",
    "range(3, 10, 2) vil gi oss tallene 3, 5, 7, 9. \n",
    "\n",
    "```"
   ]
  },
  {
   "cell_type": "markdown",
   "metadata": {},
   "source": [
    "### Eksempel 1\n",
    "\n",
    "Print ut de 10 første oddetallen.\n",
    "\n",
    "**Løsning:**"
   ]
  },
  {
   "cell_type": "code",
   "execution_count": 5,
   "metadata": {},
   "outputs": [
    {
     "name": "stdout",
     "output_type": "stream",
     "text": [
      "1\n",
      "3\n",
      "5\n",
      "7\n",
      "9\n",
      "11\n",
      "13\n",
      "15\n",
      "17\n",
      "19\n"
     ]
    }
   ],
   "source": [
    "for i in range(10):\n",
    "    print(2*i+1)"
   ]
  },
  {
   "cell_type": "markdown",
   "metadata": {},
   "source": [
    "Legg merke til at om vi ikke oppgir start-verdien, så brukes 0 som startveri. "
   ]
  },
  {
   "cell_type": "markdown",
   "metadata": {},
   "source": [
    "### Eksempel 2\n",
    "\n",
    "Regn ut summen av de 100 første oddetallen.\n",
    "\n",
    "**Løsning:**"
   ]
  },
  {
   "cell_type": "code",
   "execution_count": 6,
   "metadata": {},
   "outputs": [
    {
     "name": "stdout",
     "output_type": "stream",
     "text": [
      "10000\n"
     ]
    }
   ],
   "source": [
    "# Må først lage en variabel S som skal bli den ønskede summen. \n",
    "\n",
    "S = 0\n",
    "\n",
    "# Så legger vi til alle de 100 oddetallene til S:\n",
    "\n",
    "for i in range(100):\n",
    "    S = S+ 2*i+1\n",
    "\n",
    "print(S)"
   ]
  },
  {
   "cell_type": "markdown",
   "metadata": {},
   "source": [
    "## while-løkker\n",
    "\n",
    "I programmet over, visste vi hvor mange tall vi skulle legge til S. Slik er det ikke alltid, noe neste eksempel viser. "
   ]
  },
  {
   "cell_type": "markdown",
   "metadata": {},
   "source": [
    "### Eksempel 3\n",
    "\n",
    "Adder alle kvadrattallene som er mindre enn 1000. \n",
    "\n",
    "Her er «problemet» at vi i utgangspunktet ikke vet hvor mange kvadrattall vi skal legge sammen. Dette kunne vi jo selvsagt regnet ut, siden $\\sqrt{1000}\\approx 31.62$. Vi kunne med andre ord løst oppgaven slik:  "
   ]
  },
  {
   "cell_type": "code",
   "execution_count": 7,
   "metadata": {},
   "outputs": [
    {
     "name": "stdout",
     "output_type": "stream",
     "text": [
      "10416\n"
     ]
    }
   ],
   "source": [
    "S = 0\n",
    "for i in range(1, 32):\n",
    "    S = S + i**2\n",
    "print(S)"
   ]
  },
  {
   "cell_type": "markdown",
   "metadata": {},
   "source": [
    "I stedet for å regne ut antall kvadrattall som skal adderes, kan vi bruke en while-løkke. "
   ]
  },
  {
   "cell_type": "markdown",
   "metadata": {},
   "source": [
    "```{code-block} python\n",
    "while <betingelse >:\n",
    "    kode som kjøres så lenge betingelsen er sann\n",
    "```"
   ]
  },
  {
   "cell_type": "code",
   "execution_count": 9,
   "metadata": {},
   "outputs": [
    {
     "name": "stdout",
     "output_type": "stream",
     "text": [
      "10416\n"
     ]
    }
   ],
   "source": [
    "S = 0\n",
    "i = 1\n",
    "while i**2 < 1000:\n",
    "    S = S + i**2\n",
    "    i = i + 1\n",
    "print(S)"
   ]
  },
  {
   "cell_type": "markdown",
   "metadata": {},
   "source": [
    "Vi ser at vi får samme svaret! \n",
    "\n",
    "```{admonition} Pass på!\n",
    ":class: warning\n",
    "\n",
    "Vi må definere variabelen *i* før selve while-løkken og vi må passe på å øke denne i løkken. \n",
    "```"
   ]
  }
 ],
 "metadata": {
  "interpreter": {
   "hash": "d99b4b40993aa8bf34081c0eb15f3bf1ce7f31b892d31088c144d89404ac10fe"
  },
  "kernelspec": {
   "display_name": "Python 3.8.3 64-bit ('base': conda)",
   "language": "python",
   "name": "python3"
  },
  "language_info": {
   "codemirror_mode": {
    "name": "ipython",
    "version": 3
   },
   "file_extension": ".py",
   "mimetype": "text/x-python",
   "name": "python",
   "nbconvert_exporter": "python",
   "pygments_lexer": "ipython3",
   "version": "3.8.3"
  },
  "orig_nbformat": 4
 },
 "nbformat": 4,
 "nbformat_minor": 2
}
