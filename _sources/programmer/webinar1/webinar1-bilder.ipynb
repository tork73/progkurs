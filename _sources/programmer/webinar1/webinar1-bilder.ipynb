{
 "cells": [
  {
   "cell_type": "markdown",
   "metadata": {},
   "source": [
    "# Webinar 1: Grunnleggende programmering \n",
    "\n",
    "## Mål:\n",
    "\n",
    "* Litt om editorer og IDEer\n",
    "* Litt om programmering med elever \n",
    "* Løkker og betingelser\n",
    "* Litt om funksjoner og moduler\n",
    "\n"
   ]
  },
  {
   "cell_type": "markdown",
   "metadata": {},
   "source": [
    "## Litt om editorer og IDEer\n",
    "\n",
    "![spyder](syder.png)\n",
    "\n",
    "\n",
    "\n",
    "IDE = Integrated Development Environment. \n",
    "\n",
    "En IDE er et program som er laget for å hjelpe deg med å skrive kode og å kjøre koden.\n",
    "\n",
    "**IDEer:**\n",
    "* [Thonny](https://thonny.org/)\n",
    "* [PyCharm](https://www.jetbrains.com/pycharm/)\n",
    "* [Spyder](https://pythonhosted.org/spyder/)\n",
    "* [Visual Studio Code](https://code.visualstudio.com/)\n",
    "* [Jupyter lab](https://jupyterlab.readthedocs.io/en/stable/)\n",
    "* [Jupyter Notebook](https://jupyter.org/)\n",
    "* [Google Colab](https://colab.research.google.com/)\n",
    "* [Repl.it](https://repl.it/)\n",
    "* [Trinket](https://trinket.io/)\n",
    "\n",
    "![image-2.png](thonny.png)\n"
   ]
  },
  {
   "cell_type": "markdown",
   "metadata": {},
   "source": [
    "![image.png](navigator.png)"
   ]
  },
  {
   "cell_type": "markdown",
   "metadata": {},
   "source": [
    "![image.png](verktoey.png)"
   ]
  },
  {
   "cell_type": "markdown",
   "metadata": {},
   "source": [
    "### Tips 1: start tidlig\n",
    "\n",
    "> **Regn ut**\n",
    ">\n",
    "> a)   $1+2\\cdot 4$\n",
    ">\n",
    "> b)   $2^5-1$\n",
    ">\n",
    "> c)   $\\dfrac{4+5\\cdot 6^2}{7}$"
   ]
  },
  {
   "cell_type": "code",
   "execution_count": 2,
   "metadata": {},
   "outputs": [
    {
     "data": {
      "text/plain": [
       "9"
      ]
     },
     "execution_count": 2,
     "metadata": {},
     "output_type": "execute_result"
    }
   ],
   "source": [
    "1+2*4"
   ]
  },
  {
   "cell_type": "code",
   "execution_count": 3,
   "metadata": {},
   "outputs": [
    {
     "data": {
      "text/plain": [
       "31"
      ]
     },
     "execution_count": 3,
     "metadata": {},
     "output_type": "execute_result"
    }
   ],
   "source": [
    "2**5-1"
   ]
  },
  {
   "cell_type": "code",
   "execution_count": 4,
   "metadata": {},
   "outputs": [
    {
     "data": {
      "text/plain": [
       "26.285714285714285"
      ]
     },
     "execution_count": 4,
     "metadata": {},
     "output_type": "execute_result"
    }
   ],
   "source": [
    "(4+5*6**2)/7"
   ]
  },
  {
   "cell_type": "code",
   "execution_count": 6,
   "metadata": {},
   "outputs": [
    {
     "data": {
      "text/plain": [
       "28"
      ]
     },
     "execution_count": 6,
     "metadata": {},
     "output_type": "execute_result"
    }
   ],
   "source": [
    "# Du har 200 kroner og skal kjøpe sjokolader som koster 7 kr per stk.\n",
    "# Hvor mange har vi råd til?\n",
    "\n",
    "200 // 7"
   ]
  },
  {
   "cell_type": "code",
   "execution_count": 7,
   "metadata": {},
   "outputs": [
    {
     "data": {
      "text/plain": [
       "28.571428571428573"
      ]
     },
     "execution_count": 7,
     "metadata": {},
     "output_type": "execute_result"
    }
   ],
   "source": [
    "200/7"
   ]
  },
  {
   "cell_type": "code",
   "execution_count": 8,
   "metadata": {},
   "outputs": [
    {
     "data": {
      "text/plain": [
       "4"
      ]
     },
     "execution_count": 8,
     "metadata": {},
     "output_type": "execute_result"
    }
   ],
   "source": [
    "200 % 7 "
   ]
  },
  {
   "cell_type": "markdown",
   "metadata": {},
   "source": [
    "<center>\n",
    "\n",
    "<table>\n",
    "  <thead style=\"background-color: #abcdef;\">\n",
    "    <tr>\n",
    "      <th><strong>Symbol</strong></th>\n",
    "      <th><strong>Operasjon</strong></th>\n",
    "      <th><strong>Eksempel</strong></th>\n",
    "      <th><strong>Resultat</strong></th>\n",
    "    </tr>\n",
    "  </thead>\n",
    "  <tbody>\n",
    "    <tr>\n",
    "      <td>+</td>\n",
    "      <td>Addisjon</td>\n",
    "      <td>1+2</td>\n",
    "      <td>3</td>\n",
    "    </tr>\n",
    "    <tr>\n",
    "      <td>-</td>\n",
    "      <td>Subtraksjon</td>\n",
    "      <td>23 - 11</td>\n",
    "      <td>12</td>\n",
    "    </tr>\n",
    "    <tr>\n",
    "      <td>*</td>\n",
    "      <td>Multiplikasjon</td>\n",
    "      <td>4.3*5.5</td>\n",
    "      <td>23.65</td>\n",
    "    </tr>\n",
    "    <tr>\n",
    "      <td>/</td>\n",
    "      <td>Divisjon</td>\n",
    "      <td>15/4</td>\n",
    "      <td>3.75</td>\n",
    "    </tr>\n",
    "    <tr>\n",
    "      <td>**</td>\n",
    "      <td>Potens</td>\n",
    "      <td>2**3</td>\n",
    "      <td>8</td>\n",
    "    </tr>\n",
    "    <tr>\n",
    "      <td>//</td>\n",
    "      <td>Heltallsdivisjon</td>\n",
    "      <td>10//4</td>\n",
    "      <td>2</td>\n",
    "    </tr>\n",
    "    <tr>\n",
    "      <td>%</td>\n",
    "      <td>Kongruens modulo</td>\n",
    "      <td>28 % 12</td>\n",
    "      <td>4</td>\n",
    "    </tr>\n",
    "  </tbody>\n",
    "</table>\n",
    "\n",
    "</center>\n",
    "\n",
    "\n",
    "  \n",
    "![image.png](ai-elever.png)\n",
    "\n",
    "\n"
   ]
  },
  {
   "cell_type": "markdown",
   "metadata": {},
   "source": [
    "### Tips 2: Start enkelt! \n",
    "\n",
    "Formelen for arealet $A$ til et trapes er gitt ved formelen \n",
    "\n",
    "$$ A = \\dfrac{a+b}{2}\\cdot h $$\n",
    "\n",
    "Lag et program som regner ut arealet til trapeset når $a=4.3$, $b=6.5$ og $h=2.1$.\n",
    "\n",
    "![image.png](trapes.png)\n",
    "\n"
   ]
  },
  {
   "cell_type": "code",
   "execution_count": 13,
   "metadata": {},
   "outputs": [
    {
     "name": "stdin",
     "output_type": "stream",
     "text": [
      "Skriv inn lengden a:  3\n",
      "Skriv inn lengden b:  5\n",
      "Skriv inn lengden h:  2\n"
     ]
    },
    {
     "name": "stdout",
     "output_type": "stream",
     "text": [
      "Arealet er 8.0\n"
     ]
    }
   ],
   "source": [
    "a = input(\"Skriv inn lengden a: \")\n",
    "b = input(\"Skriv inn lengden b: \")\n",
    "h = input(\"Skriv inn lengden h: \")\n",
    "\n",
    "a = float(a) # omdefinerer a til å være et desimaltall\n",
    "b = float(b)\n",
    "h = float(h)\n",
    "\n",
    "A = (a+b)/2 * h\n",
    "print(\"Arealet er\", A)"
   ]
  },
  {
   "cell_type": "code",
   "execution_count": 14,
   "metadata": {},
   "outputs": [
    {
     "data": {
      "text/plain": [
       "float"
      ]
     },
     "execution_count": 14,
     "metadata": {},
     "output_type": "execute_result"
    }
   ],
   "source": [
    "type(a)"
   ]
  },
  {
   "cell_type": "code",
   "execution_count": 15,
   "metadata": {},
   "outputs": [
    {
     "data": {
      "text/plain": [
       "3.0"
      ]
     },
     "execution_count": 15,
     "metadata": {},
     "output_type": "execute_result"
    }
   ],
   "source": [
    "a"
   ]
  },
  {
   "cell_type": "markdown",
   "metadata": {},
   "source": [
    "### Datatyper i Python\n",
    "\n",
    "Det finnes mange forskjellige datatyper i Python. De vanligste er:\n",
    "\n",
    "\n",
    "<center>\n",
    "<table>\n",
    "  <thead style=\"background-color: #abcdef;\">\n",
    "    <tr>\n",
    "      <th><strong>Kode</strong></th>\n",
    "      <th><strong>Datatype</strong></th>\n",
    "      <th><strong>Eksempel</strong></th>\n",
    "    </tr>\n",
    "  </thead>\n",
    "  <tbody>\n",
    "    <tr>\n",
    "      <td>int</td>\n",
    "      <td>heltall</td>\n",
    "      <td>4343</td>\n",
    "    </tr>\n",
    "    <tr>\n",
    "      <td>float</td>\n",
    "      <td>desimaltall</td>\n",
    "      <td>3.14159</td>\n",
    "    </tr>\n",
    "    <tr>\n",
    "      <td>str</td>\n",
    "      <td>streng (tekst)</td>\n",
    "      <td>\"Eksempeltekst\"</td>\n",
    "    </tr>\n",
    "    <tr>\n",
    "      <td>bool</td>\n",
    "      <td>boolsk verdi</td>\n",
    "      <td>False</td>\n",
    "    </tr>\n",
    "    <tr>\n",
    "      <td>list</td>\n",
    "      <td>liste</td>\n",
    "      <td>[3, 4, \"sko\", -4]</td>\n",
    "    </tr>\n",
    "  </tbody>\n",
    "</table>\n",
    "\n",
    "</center>\n"
   ]
  },
  {
   "cell_type": "markdown",
   "metadata": {},
   "source": [
    "\n",
    "\n",
    "![image.png](bekymret.png)\n",
    "### Tips 3: Ikke programmering på prøver i første termin "
   ]
  },
  {
   "cell_type": "markdown",
   "metadata": {},
   "source": [
    "\n",
    "![image.png](eksamen.png)"
   ]
  },
  {
   "cell_type": "markdown",
   "metadata": {},
   "source": [
    "## Betingelser og løkker\n",
    "\n",
    "### Betingelser\n"
   ]
  },
  {
   "cell_type": "markdown",
   "metadata": {},
   "source": [
    "<center>\n",
    "<table>\n",
    "  <thead style=\"background-color: #abcdef;\">\n",
    "    <tr>\n",
    "      <th><strong>Relasjon</strong></th>\n",
    "      <th><strong>Betydning</strong></th>\n",
    "    </tr>\n",
    "  </thead>\n",
    "  <tbody>\n",
    "    <tr>\n",
    "      <td>a == b</td>\n",
    "      <td>tester om a er lik b</td>\n",
    "    </tr>\n",
    "    <tr>\n",
    "      <td>a != b</td>\n",
    "      <td>tester om a er ulik b</td>\n",
    "    </tr>\n",
    "    <tr>\n",
    "      <td>a < b</td>\n",
    "      <td>tester om a er mindre enn b</td>\n",
    "    </tr>\n",
    "    <tr>\n",
    "      <td>a <= b</td>\n",
    "      <td>tester om a er mindre eller lik b</td>\n",
    "    </tr>\n",
    "    <tr>\n",
    "      <td>a > b</td>\n",
    "      <td>tester om a er større enn b</td>\n",
    "    </tr>\n",
    "    <tr>\n",
    "      <td>a >= b</td>\n",
    "      <td>tester om a er større enn eller lik b</td>\n",
    "    </tr>\n",
    "    <!-- Flere rader etter behov -->\n",
    "  </tbody>\n",
    "</table>\n",
    "</center>\n"
   ]
  },
  {
   "cell_type": "code",
   "execution_count": 20,
   "metadata": {},
   "outputs": [
    {
     "data": {
      "text/plain": [
       "False"
      ]
     },
     "execution_count": 20,
     "metadata": {},
     "output_type": "execute_result"
    }
   ],
   "source": [
    "2 != 1+1"
   ]
  },
  {
   "cell_type": "markdown",
   "metadata": {},
   "source": [
    "### Eksempel \n",
    "\n",
    "\n",
    "![image-2.png](terning.png)\n",
    "\n",
    "Lag et program som simulerer et terningskast. \n",
    "\n",
    "* Dersom vi får mindre enn fire øyne, skal programmet skrive ut «Du tapte!».\n",
    "\n",
    "* Dersom vi får fire eller fem øyne, skal det skrive ut «Du vant en liten premie!».\n",
    "\n",
    "* Dersom vi får seks øyne, skal det skrive ut «Du vant en stor premie!».\n"
   ]
  },
  {
   "cell_type": "code",
   "execution_count": 55,
   "metadata": {},
   "outputs": [
    {
     "name": "stdout",
     "output_type": "stream",
     "text": [
      "Du vant en liten premie!\n"
     ]
    }
   ],
   "source": [
    "from random import randint\n",
    "\n",
    "øyne = randint(1, 6) # Får et tilfeldig tall blant tallene 1, 2, 3, 4, 5, 6\n",
    "\n",
    "if øyne < 4:\n",
    "    print(\"Du tapte!\")\n",
    "elif øyne < 6:\n",
    "    print(\"Du vant en liten premie!\")\n",
    "else:\n",
    "    print(\"Du vant en stor premie!\")\n",
    "\n"
   ]
  },
  {
   "cell_type": "code",
   "execution_count": 49,
   "metadata": {},
   "outputs": [
    {
     "data": {
      "text/plain": [
       "2"
      ]
     },
     "execution_count": 49,
     "metadata": {},
     "output_type": "execute_result"
    }
   ],
   "source": [
    "øyne"
   ]
  },
  {
   "cell_type": "markdown",
   "metadata": {},
   "source": [
    "## Løkker\n",
    "\n",
    "### For-løkker\n",
    "\n",
    "#### Eksempel 1\n",
    "Skriv ut de fem første kvadrattallene. "
   ]
  },
  {
   "cell_type": "code",
   "execution_count": 57,
   "metadata": {},
   "outputs": [
    {
     "name": "stdout",
     "output_type": "stream",
     "text": [
      "1\n",
      "4\n",
      "9\n",
      "16\n",
      "25\n"
     ]
    }
   ],
   "source": [
    "for tall in [1, 2, 3, 4, 5]:\n",
    "    print(tall**2)"
   ]
  },
  {
   "cell_type": "code",
   "execution_count": 58,
   "metadata": {},
   "outputs": [
    {
     "name": "stdout",
     "output_type": "stream",
     "text": [
      "1\n",
      "4\n",
      "9\n",
      "16\n",
      "25\n"
     ]
    }
   ],
   "source": [
    "for tall in range(1, 6):\n",
    "    print(tall**2)"
   ]
  },
  {
   "cell_type": "markdown",
   "metadata": {},
   "source": [
    "> **Fra Pythons innebygde hjelp-funksjon:**\n",
    ">\n",
    "> range(j) gir oss tallene 0,1, ...,j-1. \n",
    ">\n",
    "> range(i,j)gir oss tallene i,i+1, ...,j-1.\n",
    ">\n",
    "> range(i, j, k) gir oss tallene i, i + k, i + 2k . . . , i + m - k, der m er  største heltall slik at i + m $\\cdot$ k < j."
   ]
  },
  {
   "cell_type": "code",
   "execution_count": 61,
   "metadata": {},
   "outputs": [
    {
     "name": "stdout",
     "output_type": "stream",
     "text": [
      "1\n",
      "7\n"
     ]
    }
   ],
   "source": [
    "for i in range(1, 11, 6):\n",
    "    print(i)"
   ]
  },
  {
   "cell_type": "markdown",
   "metadata": {},
   "source": [
    "### Eksempel 2\n",
    "\n",
    "Finn summen av de 100 første oddetallen. "
   ]
  },
  {
   "cell_type": "code",
   "execution_count": 62,
   "metadata": {},
   "outputs": [
    {
     "name": "stdout",
     "output_type": "stream",
     "text": [
      "10000\n"
     ]
    }
   ],
   "source": [
    "S = 0 # dette skal bli hele summen \n",
    "for tall in range(1, 101):\n",
    "    S = S + 2*tall - 1\n",
    "print(S)"
   ]
  },
  {
   "cell_type": "code",
   "execution_count": 63,
   "metadata": {},
   "outputs": [
    {
     "data": {
      "text/plain": [
       "10000"
      ]
     },
     "execution_count": 63,
     "metadata": {},
     "output_type": "execute_result"
    }
   ],
   "source": [
    "sum(range(1, 100*2+1, 2))"
   ]
  },
  {
   "cell_type": "markdown",
   "metadata": {},
   "source": [
    "### Eksempel 3\n",
    "\n",
    "![image.png](erter.png)\n",
    "\n",
    "Maren jobbar i ein butikk, og har fått i oppgåve å stable hermetikkboksar. Ho har 150 boksar som ho kan nytta. Boksane skal stablast slik at det er éin boks i øvste rad, to i nest-øvste, tre i rada under der og så vidare. Sjå bilete.\n",
    "Kor mange rader kan ho stable boksane i?\n"
   ]
  },
  {
   "cell_type": "markdown",
   "metadata": {},
   "source": [
    "### While-løkke\n",
    "\n",
    "```python\n",
    "Så lenge betingelse er sann, gjør dette:\n",
    "    kode\n",
    "```\n",
    "\n",
    "\n",
    "\n",
    "Eksempel på en enkel `while`-løkke i Python:\n"
   ]
  },
  {
   "cell_type": "code",
   "execution_count": 66,
   "metadata": {},
   "outputs": [
    {
     "name": "stdout",
     "output_type": "stream",
     "text": [
      "0\n",
      "1\n",
      "2\n",
      "3\n",
      "4\n",
      "5\n",
      "6\n",
      "7\n",
      "8\n",
      "9\n",
      "Ferdig\n"
     ]
    }
   ],
   "source": [
    "teller = 0\n",
    "while teller < 10:\n",
    "    print(teller)\n",
    "    teller = teller + 1 \n",
    "print(\"Ferdig\")"
   ]
  },
  {
   "cell_type": "markdown",
   "metadata": {},
   "source": [
    "### Eksempel 4 (Oppgave 6, del 2, eksamen 1P 2023)\n",
    "\n",
    "I denne oppgaven skal du arbeide med linjestykker som settes sammen til en figur.\n",
    "\n",
    "Skissen nedenfor viser de 16 første linjestykkene i figuren. Lengden av et linjestykke er alltid 90 % av lengden av det forrige linjestykket. Det første linjestykket er 100 cm langt.\n",
    "\n",
    "![image.png](slange.png)\n",
    "\n",
    "a) Bestem summen av lengdene av de 8 første linjestykkene i figuren."
   ]
  },
  {
   "cell_type": "code",
   "execution_count": 76,
   "metadata": {},
   "outputs": [
    {
     "name": "stdout",
     "output_type": "stream",
     "text": [
      "Lengden av de første 8 linjestykkene er 569.53 cm\n"
     ]
    }
   ],
   "source": [
    "S = 0        # Dette skal bli summen av lengdene\n",
    "lengde = 100 # Dette er den første lengden\n",
    "\n",
    "for i in range(8):\n",
    "    S = S + lengde\n",
    "    lengde = lengde * 0.9\n",
    "print(f\"Lengden av de første 8 linjestykkene er {S:0.2f} cm\")"
   ]
  },
  {
   "cell_type": "markdown",
   "metadata": {},
   "source": [
    "b) Lag et program som du kan bruke til å bestemme summen av lengdene av linjestykkene dersom det er mange linjestykker i figuren.\n",
    "\n",
    "Hvor mange linjestykker må vi ha med i figuren dersom summen av lengdene skal bli minst 9 meter?"
   ]
  },
  {
   "cell_type": "code",
   "execution_count": 80,
   "metadata": {},
   "outputs": [
    {
     "name": "stdout",
     "output_type": "stream",
     "text": [
      "Lengden av de første 22 linjestykkene er 901.52 cm\n"
     ]
    }
   ],
   "source": [
    "S = 0        # Dette skal bli summen av lengdene\n",
    "lengde = 100 # Dette er den første lengden\n",
    "n = 22       # antall linjestykker\n",
    "\n",
    "for i in range(n):\n",
    "    S = S + lengde\n",
    "    lengde = lengde * 0.9\n",
    "print(f\"Lengden av de første {n} linjestykkene er {S:0.2f} cm\")"
   ]
  },
  {
   "cell_type": "code",
   "execution_count": 84,
   "metadata": {},
   "outputs": [
    {
     "name": "stdout",
     "output_type": "stream",
     "text": [
      "22\n"
     ]
    }
   ],
   "source": [
    "S = 0        # Dette skal bli summen av lengdene\n",
    "lengde = 100 # Dette er den første lengden\n",
    "n = 0        # antall linjestykker\n",
    "\n",
    "while S < 900:\n",
    "    n = n + 1\n",
    "    S = S + lengde\n",
    "    lengde = lengde * 0.9\n",
    "print(n)"
   ]
  },
  {
   "cell_type": "markdown",
   "metadata": {},
   "source": [
    "c) Hvor mange prosent øker summen av lengdene dersom vi øker antall linjestykker i figuren fra 50 til 100?"
   ]
  },
  {
   "cell_type": "code",
   "execution_count": 88,
   "metadata": {},
   "outputs": [
    {
     "name": "stdout",
     "output_type": "stream",
     "text": [
      "Økningen er 0.52%\n"
     ]
    }
   ],
   "source": [
    "# Løsning 1\n",
    "\n",
    "# Finner først summen av de 50 første:\n",
    "\n",
    "S1 = 0        # Dette skal bli summen av de 50 første lengdene\n",
    "lengde = 100  # Dette er den første lengden\n",
    "\n",
    "for i in range(50):\n",
    "    S1 = S1 + lengde\n",
    "    lengde = lengde * 0.9\n",
    "\n",
    "S2 = 0        # Dette skal bli summen av de 50 første lengdene\n",
    "lengde = 100  # Dette er den første lengden\n",
    "\n",
    "for i in range(100):\n",
    "    S2 = S2 + lengde\n",
    "    lengde = lengde * 0.9\n",
    "\n",
    "rel = (S2-S1)/S1\n",
    "print(f\"Økningen er {rel:0.2%}\")\n"
   ]
  },
  {
   "cell_type": "code",
   "execution_count": 92,
   "metadata": {},
   "outputs": [
    {
     "name": "stdout",
     "output_type": "stream",
     "text": [
      "Økningen er 0.52%\n"
     ]
    }
   ],
   "source": [
    "# Løsning 2\n",
    "\n",
    "def Sumlengde(n):\n",
    "    \"\"\" \n",
    "    Regner ut summen av lendene til de n første linjestykkene. \n",
    "    \"\"\"\n",
    "    S = 0 \n",
    "    lengde = 100\n",
    "    for i in range(n):\n",
    "        S = S + lengde\n",
    "        lengde = lengde * 0.9\n",
    "    return S\n",
    "\n",
    "rel = (Sumlengde(100)-Sumlengde(50))/Sumlengde(50)\n",
    "print(f\"Økningen er {rel:0.2%}\")\n"
   ]
  },
  {
   "cell_type": "code",
   "execution_count": 93,
   "metadata": {},
   "outputs": [
    {
     "data": {
      "text/plain": [
       "569.5327900000001"
      ]
     },
     "execution_count": 93,
     "metadata": {},
     "output_type": "execute_result"
    }
   ],
   "source": [
    "Sumlengde(8)"
   ]
  },
  {
   "cell_type": "markdown",
   "metadata": {},
   "source": [
    "### Eksempel 5 (Fra eksempelsett 2, 1P 2021)\n",
    "\n",
    "![image.png](fyrstikker.png)\n",
    "\n",
    "De tre figurene er laget av fyrstikker.\n",
    "\n",
    "Figur 1 består av ett lite kvadrat, figur 2 består av fire små kvadrater, og figur 3 består\n",
    "av ni små kvadrater.\n",
    "\n",
    "Tenk deg at du har 10 000 fyrstikker.\n",
    "\n",
    "Du skal lage de tre figurene, og så fortsette å lage figurer etter samme mønster, én i\n",
    "hver størrelse.\n",
    "\n",
    "a) Hvor mange figurer kan du lage?\n",
    "\n",
    "b) Hvor mange fyrstikker vil du ha igjen når du har laget den siste figuren?"
   ]
  },
  {
   "cell_type": "code",
   "execution_count": 96,
   "metadata": {},
   "outputs": [
    {
     "name": "stdout",
     "output_type": "stream",
     "text": [
      "10 880\n"
     ]
    }
   ],
   "source": [
    "S = 0  # Så mange fyrstikker jeg bruker\n",
    "n = 0\n",
    "\n",
    "while S <= 1000:\n",
    "    n = n + 1\n",
    "    S = S + 2*n*(n+1)\n",
    "print(n-1, S-2*n*(n+1))\n",
    "\n"
   ]
  },
  {
   "cell_type": "code",
   "execution_count": 97,
   "metadata": {},
   "outputs": [
    {
     "data": {
      "text/plain": [
       "120"
      ]
     },
     "execution_count": 97,
     "metadata": {},
     "output_type": "execute_result"
    }
   ],
   "source": [
    "1000-(S-2*n*(n+1))"
   ]
  },
  {
   "cell_type": "code",
   "execution_count": null,
   "metadata": {},
   "outputs": [],
   "source": []
  },
  {
   "cell_type": "markdown",
   "metadata": {},
   "source": [
    "### Eksempel 6 (Oppgave 13, eksempelsett 1P 2021)\n",
    "\n",
    "![image.png](hundetall.png)\n",
    "\n",
    "Ovenfor ser du tre figurer. Figurene er satt sammen av små kvadrater. \n",
    "\n",
    "Tenk deg at du skal fortsette å lage figurer etter samme mønster.\n",
    "\n",
    "a) Lag en algoritme som du kan bruke til å bestemme hvor mange små kvadrater du totalt trenger for å lage de 100 første figurene.\n",
    "\n",
    "b) Bruk algoritmen og bestem hvor mange små kvadrater du trenger."
   ]
  },
  {
   "cell_type": "code",
   "execution_count": 98,
   "metadata": {},
   "outputs": [
    {
     "data": {
      "text/plain": [
       "7"
      ]
     },
     "execution_count": 98,
     "metadata": {},
     "output_type": "execute_result"
    }
   ],
   "source": [
    "def H(n):\n",
    "    hode = n**2\n",
    "    hale = n\n",
    "    resten = (2*n+1)*(n+1)-1\n",
    "    return hode + hale + resten\n",
    "\n",
    "H(1)"
   ]
  },
  {
   "cell_type": "code",
   "execution_count": 99,
   "metadata": {},
   "outputs": [
    {
     "name": "stdout",
     "output_type": "stream",
     "text": [
      "1035250\n"
     ]
    }
   ],
   "source": [
    "# Regner så ut summen av de 100 første figurene: \n",
    "\n",
    "S = 0\n",
    "for n in range(1, 101):\n",
    "    S = S + H(n)\n",
    "print(S)"
   ]
  },
  {
   "cell_type": "code",
   "execution_count": null,
   "metadata": {},
   "outputs": [],
   "source": []
  },
  {
   "cell_type": "markdown",
   "metadata": {},
   "source": [
    "### Eksempel 7 (Oppgave 6, eksamen 1P Våren 2022)\n",
    "\n",
    "![image.png](bokser.png)\n",
    "\n",
    "Ovanfor ser du tre figurar. Figurane er sette saman av små klossar. Roar vil fortsetje å lage figurar etter same mønster.\n",
    "\n",
    "a) Kor mange klossar treng han for å lage figur 5?\n",
    "\n",
    "b) Kor mange klossar treng han til saman for å lage dei 10 første figurane? \n",
    "\n",
    "Roar har 10 000 klossar. Han vil starte med den minste figuren og lage éin figur i kvar storleik\n",
    "\n",
    "c) Kor mange figurar kan han lage? "
   ]
  },
  {
   "cell_type": "code",
   "execution_count": 100,
   "metadata": {},
   "outputs": [
    {
     "name": "stdout",
     "output_type": "stream",
     "text": [
      "55\n"
     ]
    }
   ],
   "source": [
    "# a)\n",
    "S = 1**2 + 2**2 + 3**2 + 4**2 + 5**2\n",
    "print(S)"
   ]
  },
  {
   "cell_type": "code",
   "execution_count": 101,
   "metadata": {},
   "outputs": [
    {
     "name": "stdout",
     "output_type": "stream",
     "text": [
      "1210\n"
     ]
    }
   ],
   "source": [
    "def fig(n):\n",
    "    S = 0\n",
    "    for i in range(1, n+1):\n",
    "        S = S + i**2\n",
    "    return S\n",
    "\n",
    "S = 0\n",
    "for n in range(1, 11):\n",
    "    S = S + fig(n)\n",
    "print(S)"
   ]
  },
  {
   "cell_type": "code",
   "execution_count": 102,
   "metadata": {},
   "outputs": [
    {
     "name": "stdout",
     "output_type": "stream",
     "text": [
      "1 1\n",
      "2 6\n",
      "3 20\n",
      "4 50\n",
      "5 105\n",
      "6 196\n",
      "7 336\n",
      "8 540\n",
      "9 825\n",
      "10 1210\n",
      "11 1716\n",
      "12 2366\n",
      "13 3185\n",
      "14 4200\n",
      "15 5440\n",
      "16 6936\n",
      "17 8721\n",
      "18 10830\n",
      "17\n"
     ]
    }
   ],
   "source": [
    "klosser = 0\n",
    "n = 0\n",
    "while klosser < 10000:\n",
    "    n = n + 1\n",
    "    klosser = klosser + fig(n) \n",
    "    print(n, klosser)\n",
    "print(n-1)"
   ]
  }
 ],
 "metadata": {
  "kernelspec": {
   "display_name": "Python 3 (ipykernel)",
   "language": "python",
   "name": "python3"
  },
  "language_info": {
   "codemirror_mode": {
    "name": "ipython",
    "version": 3
   },
   "file_extension": ".py",
   "mimetype": "text/x-python",
   "name": "python",
   "nbconvert_exporter": "python",
   "pygments_lexer": "ipython3",
   "version": "3.11.5"
  },
  "widgets": {
   "application/vnd.jupyter.widget-state+json": {
    "state": {},
    "version_major": 2,
    "version_minor": 0
   }
  }
 },
 "nbformat": 4,
 "nbformat_minor": 4
}
