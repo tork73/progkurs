{
 "cells": [
  {
   "cell_type": "markdown",
   "metadata": {},
   "source": [
    "![image.png](../webinar2/python-ki.png)\n",
    "\n",
    "# Webinar 3 - Løsning av likninger \n",
    "## Læringsmål\n",
    "\n",
    "- Løse likninger med prøve og feile metoden\n",
    "- Løse likninger med halveringsmetoden\n",
    "- Løse likninger med andre metoder\n",
    "- Løse likninger med Newtons metode\n",
    "\n"
   ]
  },
  {
   "cell_type": "markdown",
   "metadata": {},
   "source": [
    "![image.png](blaa.png)\n",
    "\n",
    "## Prøve og feile metoden\n",
    "\n",
    "### Eksempel 1\n",
    "\n",
    "Du setter 10 000 kroner inn på en bankkonto med 3% rente. Hvor mange år tar det før pengene har doblet seg? "
   ]
  },
  {
   "cell_type": "code",
   "execution_count": null,
   "metadata": {},
   "outputs": [],
   "source": []
  },
  {
   "cell_type": "code",
   "execution_count": null,
   "metadata": {},
   "outputs": [],
   "source": []
  },
  {
   "cell_type": "markdown",
   "metadata": {},
   "source": [
    "### Eksempel 2 \n",
    "\n",
    "Løs likningen $3000\\cdot 1.018^x = 5000$"
   ]
  },
  {
   "cell_type": "code",
   "execution_count": null,
   "metadata": {},
   "outputs": [],
   "source": []
  },
  {
   "cell_type": "code",
   "execution_count": null,
   "metadata": {},
   "outputs": [],
   "source": []
  },
  {
   "cell_type": "markdown",
   "metadata": {},
   "source": [
    "### Eksempel 3\n",
    "\n",
    "Vi ønsker å finne alle nullpunktene til funksjonen \n",
    "$f(x)=e^x-x-\\dfrac{3}{2}$. \n",
    "\n",
    "* Hvor mange nullpunkt kan funksjonen ha? \n",
    "\n",
    "* Hvilket intervall vil vi lete i? \n",
    "\n",
    "* Kan vi lage en algoritme som finner alle? "
   ]
  },
  {
   "cell_type": "code",
   "execution_count": null,
   "metadata": {},
   "outputs": [],
   "source": []
  },
  {
   "cell_type": "code",
   "execution_count": null,
   "metadata": {},
   "outputs": [],
   "source": []
  },
  {
   "cell_type": "code",
   "execution_count": 1,
   "metadata": {},
   "outputs": [
    {
     "data": {
      "application/vnd.jupyter.widget-view+json": {
       "model_id": "74b58ff0747d4f3d9ebe45a5a0824033",
       "version_major": 2,
       "version_minor": 0
      },
      "text/plain": [
       "interactive(children=(FloatSlider(value=-3.0, description='x0', max=2.0, min=-3.0), IntSlider(value=0, descrip…"
      ]
     },
     "metadata": {},
     "output_type": "display_data"
    }
   ],
   "source": [
    "import ipywidgets as widgets \n",
    "from IPython.display import display\n",
    "import numpy as np  #\n",
    "import matplotlib.pyplot as plt\n",
    "\n",
    "def f(x):\n",
    "    return np.exp(x)-x-3/2\n",
    "plt.style.use(\"seaborn-v0_8\")\n",
    "\n",
    "@widgets.interact(d=(0, 2, 0.01), n=(0, 50, 1), x0=(-3, 2, 0.1))\n",
    "def diskret(x0=-3, n=0, d=0.5):\n",
    "    plt.figure(figsize=(12, 6))\n",
    "    X = np.linspace(-3, 2.5, 100)\n",
    "    plt.ylim(-1, 2)\n",
    "    plt.plot(X, f(X))\n",
    "    plt.hlines(0, -3, 2.5, color=\"black\")\n",
    "    if f(x0+n*d)>0:\n",
    "        plt.scatter(x0+n*d, 0, color=\"g\", s=100)\n",
    "    else:\n",
    "        plt.scatter(x0+n*d, 0, color=\"y\", s=100)\n",
    "    if f(x0+(n+1)*d)>0:\n",
    "        plt.scatter(x0+(n+1)*d, 0, color=\"g\", s=100)\n",
    "    else:\n",
    "        plt.scatter(x0+(n+1)*d, 0, color=\"y\", s=100)\n",
    "    plt.text(x0+n*d, -.23, r\"$x_0$\", fontdict={\"fontsize\": 20}, horizontalalignment=\"center\")\n",
    "    plt.text(x0+(n+1)*d, .14, r\"$x_0+d$\",\n",
    "         fontdict={\"fontsize\": 20}, horizontalalignment=\"center\")\n"
   ]
  },
  {
   "cell_type": "code",
   "execution_count": null,
   "metadata": {},
   "outputs": [],
   "source": []
  },
  {
   "cell_type": "code",
   "execution_count": null,
   "metadata": {},
   "outputs": [],
   "source": []
  },
  {
   "cell_type": "markdown",
   "metadata": {},
   "source": [
    "![image.png](ki-1.png)\n",
    "\n",
    "## Halveringsmetoden for å finne nullpunkt til en funksjon\n",
    "\n"
   ]
  },
  {
   "cell_type": "code",
   "execution_count": 2,
   "metadata": {},
   "outputs": [
    {
     "data": {
      "application/vnd.jupyter.widget-view+json": {
       "model_id": "329401e702b948d7a9f65a82cc06db71",
       "version_major": 2,
       "version_minor": 0
      },
      "text/plain": [
       "interactive(children=(IntSlider(value=0, description='steg', max=10), Output()), _dom_classes=('widget-interac…"
      ]
     },
     "metadata": {},
     "output_type": "display_data"
    }
   ],
   "source": [
    "import numpy as np\n",
    "import matplotlib.pyplot as plt \n",
    "\n",
    "\n",
    "n = 11\n",
    "A = [0]\n",
    "B = [2]\n",
    "M = [1]\n",
    "@widgets.interact(steg=(0, 10, 1))\n",
    "def halv(steg= 0):\n",
    "    X = np.linspace(0, 2, 100)\n",
    "    def f(x):\n",
    "        return -2*x**3+6*x**2-5\n",
    "    plt.figure(figsize=(12, 6))\n",
    "    plt.plot(X, f(X))\n",
    "    plt.hlines(0, 0, 2)\n",
    "    plt.ylim(-6, 4)\n",
    "    a = 0\n",
    "    b = 2\n",
    "    for i in range(n):\n",
    "        m = (a+b)/2\n",
    "        if f(a)*f(m)<0:\n",
    "            b = m\n",
    "        else:\n",
    "            a = m\n",
    "        A.append(a)\n",
    "        B.append(b)\n",
    "        M.append(m)\n",
    "    for i in range(n+1):\n",
    "        if i == steg:\n",
    "            plt.scatter([A[steg], M[steg+1], B[steg]], [0,0,0])\n",
    "            if f(A[steg])>=0:\n",
    "                plt.plot([A[steg], A[steg]], [0, f(A[steg])], color=\"b\")\n",
    "            else:\n",
    "                plt.plot([A[steg], A[steg]], [0, f(A[steg])], color=\"r\")\n",
    "            if f(B[steg])>=0:\n",
    "                plt.plot([B[steg], B[steg]], [0, f(B[steg])], color=\"b\")\n",
    "            else:\n",
    "                plt.plot([A[steg], A[steg]], [0, f(A[steg])], color=\"r\")\n",
    "            plt.text(A[steg], 0.2, \"a\", fontsize=16, horizontalalignment='center')\n",
    "            plt.text(B[steg], 0.2, \"b\", fontsize=16, horizontalalignment='center')\n",
    "            plt.text(M[steg+1], 0.2, \"m\", fontsize=16, horizontalalignment='center')\n",
    "            plt.scatter(M[steg+1], 0, color=\"g\", lw=4)\n"
   ]
  },
  {
   "cell_type": "markdown",
   "metadata": {},
   "source": [
    "> __Halveringsmetoden:__\n",
    ">\n",
    ">Vi ønsker å finne et nullpunkt til en funksjon $f$ i intervallet $[a , b]$.\n",
    ">\n",
    ">**Input:** Funksjonen $f$, tallene $a$, $b$ og antall ganger vi skal halvere $n$\n",
    ">\n",
    ">**Gjenta** $n$ ganger:\n",
    ">\n",
    "> &nbsp; &nbsp; &nbsp; &nbsp; &nbsp;$ m = \\dfrac{a+b}{2}$\n",
    ">\n",
    ">&nbsp; &nbsp; &nbsp; &nbsp; &nbsp;**Hvis** $f(a)$ og $f(m)$ har ulikt fortegn, lar vi $b=m$\n",
    ">&nbsp; &nbsp; &nbsp; &nbsp; &nbsp; \n",
    ">\n",
    ">&nbsp; &nbsp; &nbsp; &nbsp; &nbsp;**Ellers** lar vi $a = m $\n",
    ">\n",
    ">Da er $\\dfrac{a+b}{2}$ en god tilnærming for et nullpunkt til $f$ i $[a , b]$.\n",
    ">"
   ]
  },
  {
   "cell_type": "markdown",
   "metadata": {},
   "source": [
    "### Eksempel 4\n",
    "\n",
    "a) Begrunn at likiningen $x^3+2x=1$ har én og bare én reell løsning. \n",
    "\n",
    "b) Lag et program som løser likningen ved å bruke halveringsmetoden.\n"
   ]
  },
  {
   "cell_type": "code",
   "execution_count": null,
   "metadata": {},
   "outputs": [],
   "source": []
  },
  {
   "cell_type": "code",
   "execution_count": null,
   "metadata": {},
   "outputs": [],
   "source": []
  },
  {
   "cell_type": "code",
   "execution_count": null,
   "metadata": {},
   "outputs": [],
   "source": []
  },
  {
   "cell_type": "markdown",
   "metadata": {},
   "source": [
    "Likningens reelle løsning er \n",
    "\n",
    "$$x={\\frac{1}{3} \\cdot \\frac{{3\\;{\\kern 1pt} {{\\sqrt[3]{{\\frac{1}{{18}}\\;{\\kern 1pt} \\left( {\\sqrt {177}  + 9} \\right)}}}^2} - 2}}{{\\sqrt[3]{{\\frac{1}{{18}}\\;{\\kern 1pt} \\left( {\\sqrt {177}  + 9} \\right)}}}}}$$\n",
    "\n"
   ]
  },
  {
   "cell_type": "markdown",
   "metadata": {},
   "source": [
    "## Ferdige funksjoner for å løse likninger\n",
    "\n",
    "Det fins mange ferdige funksjoner for å løse likninger i Python. Noen av dem er:\n",
    "\n",
    "- sympy\n",
    "- numpy\n",
    "- scipy\n",
    "- fsolve\n",
    "- bisection\n",
    "- newton-raphson\n",
    "- secant\n",
    "- brentq\n",
    "- ridder\n",
    "- bisect\n",
    "- newton\n",
    "- fixed_point\n",
    "- root_scalar\n",
    "- root\n",
    "\n",
    "### Eksempel 5\n",
    "\n",
    "Løs likningen $x^3-2x^2=2x-4$ med sympy, numpy, scipy og fsolve."
   ]
  },
  {
   "cell_type": "code",
   "execution_count": null,
   "metadata": {},
   "outputs": [],
   "source": []
  },
  {
   "cell_type": "code",
   "execution_count": null,
   "metadata": {},
   "outputs": [],
   "source": []
  },
  {
   "cell_type": "code",
   "execution_count": null,
   "metadata": {},
   "outputs": [],
   "source": []
  },
  {
   "cell_type": "code",
   "execution_count": null,
   "metadata": {},
   "outputs": [],
   "source": []
  },
  {
   "cell_type": "code",
   "execution_count": null,
   "metadata": {},
   "outputs": [],
   "source": []
  },
  {
   "cell_type": "markdown",
   "metadata": {},
   "source": [
    "## Newtons metode\n",
    "\n",
    "![image.png](newton.png)"
   ]
  },
  {
   "cell_type": "markdown",
   "metadata": {},
   "source": []
  },
  {
   "cell_type": "markdown",
   "metadata": {},
   "source": []
  },
  {
   "cell_type": "code",
   "execution_count": null,
   "metadata": {},
   "outputs": [],
   "source": []
  },
  {
   "cell_type": "code",
   "execution_count": null,
   "metadata": {},
   "outputs": [],
   "source": []
  },
  {
   "cell_type": "code",
   "execution_count": 3,
   "metadata": {},
   "outputs": [
    {
     "data": {
      "application/vnd.jupyter.widget-view+json": {
       "model_id": "eccb5fff5c7e44cf8b73bc3a16bb7615",
       "version_major": 2,
       "version_minor": 0
      },
      "text/plain": [
       "interactive(children=(IntSlider(value=0, description='n', max=9), Output()), _dom_classes=('widget-interact',)…"
      ]
     },
     "metadata": {},
     "output_type": "display_data"
    }
   ],
   "source": [
    "import ipywidgets as widgets \n",
    "import numpy as np  #\n",
    "import matplotlib.pyplot as plt\n",
    "\n",
    "def f(x):\n",
    "    return x**3-5*x+3\n",
    "def Df(x):\n",
    "    return 3*x**2-5\n",
    "\n",
    "@widgets.interact(n=(0, 9, 1))\n",
    "def New(n=0):\n",
    "    x0=3\n",
    "    xmin=-0.5\n",
    "    xmax=4\n",
    "    ymin=-2\n",
    "    ymax=16\n",
    "    # Setter opp x-verdier\n",
    "    X = np.linspace(xmin, xmax, 200)\n",
    "    plt.figure(figsize=(12, 8))\n",
    "    plt.plot(X, f(X)) # Plotter funksjonen\n",
    "    plt.xlim(xmin, xmax) # Setter x-verdier\n",
    "    plt.ylim(ymin, ymax) # Setter y-verdier\n",
    "    plt.hlines(0, -4, 4, color=\"black\") # Setter horisontal linje\n",
    "    plt.vlines(0, -9, 20, color=\"black\") # Setter vertikale linjer\n",
    "\n",
    "    plt.scatter(x0, 0, color=\"g\") # Plotterer punkt\n",
    "    for i in range(10):\n",
    "        if n > i:\n",
    "            plt.plot([x0, x0], [0, f(x0)], \"go-\")\n",
    "            plt.plot(X, (X-x0)*Df(x0)+f(x0), \"crimson\")\n",
    "            x0 = x0 - f(x0)/(Df(x0))\n",
    "    "
   ]
  },
  {
   "cell_type": "markdown",
   "metadata": {},
   "source": [
    "> __Newtons metode__   \n",
    "> \n",
    "> Gitt en deriverbar funksjon $f$. Velg en startverdi $x_0$ og la\n",
    ">\n",
    "> &nbsp; &nbsp; &nbsp; &nbsp; &nbsp;$  x_{n+1}= x_n-\\dfrac{f(x_n)}{f'(x_n)}$\n",
    ">\n",
    "> For mange funksjoner vil da tallene $x_0, x_1, x_2, \\ldots$ konvergere mot et nullpunkt til $f$."
   ]
  },
  {
   "cell_type": "markdown",
   "metadata": {},
   "source": [
    "###  Eksempel 5\n",
    "\n",
    "Løs likningen $x^3-5x-1=0$ ved å bruke Newtons metode"
   ]
  },
  {
   "cell_type": "code",
   "execution_count": null,
   "metadata": {},
   "outputs": [],
   "source": []
  },
  {
   "cell_type": "code",
   "execution_count": null,
   "metadata": {},
   "outputs": [],
   "source": []
  },
  {
   "cell_type": "code",
   "execution_count": null,
   "metadata": {},
   "outputs": [],
   "source": []
  },
  {
   "cell_type": "code",
   "execution_count": null,
   "metadata": {},
   "outputs": [],
   "source": []
  }
 ],
 "metadata": {
  "kernelspec": {
   "display_name": "base",
   "language": "python",
   "name": "python3"
  },
  "language_info": {
   "codemirror_mode": {
    "name": "ipython",
    "version": 3
   },
   "file_extension": ".py",
   "mimetype": "text/x-python",
   "name": "python",
   "nbconvert_exporter": "python",
   "pygments_lexer": "ipython3",
   "version": "3.11.5"
  }
 },
 "nbformat": 4,
 "nbformat_minor": 2
}
