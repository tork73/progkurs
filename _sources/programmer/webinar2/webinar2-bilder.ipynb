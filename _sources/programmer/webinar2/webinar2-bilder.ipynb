{
 "cells": [
  {
   "cell_type": "markdown",
   "metadata": {},
   "source": [
    "![](python-ki.png) \n",
    "\n",
    "# Webinar 2: Anaylysere og presentere data\n",
    "\n",
    "\n",
    "## Mål\n",
    "\n",
    "* lære å plotte grafer med python\n",
    "* lære å lage søylediagram, histogram og kakediagram\n",
    "* lære å lage enkle statistiske analyser\n",
    "\n",
    "\n",
    "\n",
    "\n",
    "## Plotte grafer med python"
   ]
  },
  {
   "cell_type": "markdown",
   "metadata": {},
   "source": [
    "### Eksempel 1: Enkelt linjeplott\n",
    "\n",
    "Plott punktene gitt i tabellen nedenfor. \n",
    "\n",
    "\n",
    "| *x* | 1 | 2 | 3 | 4 | 5 |\n",
    "|-----|---|---|---|---|---|\n",
    "| *y* | 1 | 4 | 2 | 3 | 0 |\n",
    "\n",
    "\n"
   ]
  },
  {
   "cell_type": "code",
   "execution_count": 57,
   "metadata": {},
   "outputs": [],
   "source": [
    "\n",
    "\n",
    "X = [1, 2, 3, 4, 5]\n",
    "Y = [1, 4, 2, 3, 0]\n"
   ]
  },
  {
   "cell_type": "code",
   "execution_count": null,
   "metadata": {},
   "outputs": [],
   "source": []
  },
  {
   "cell_type": "markdown",
   "metadata": {},
   "source": [
    "### Eksempel 2: Plotte grafen til en kontinuerlig funksjon\n",
    "\n",
    "Funksjonen $f$ er gitt ved $f(x) = x^2 - 3x + 2$.\n",
    "\n",
    "Tegn grafen til $f$ for $x \\in [-1, 4]$."
   ]
  },
  {
   "cell_type": "code",
   "execution_count": null,
   "metadata": {},
   "outputs": [],
   "source": []
  },
  {
   "cell_type": "code",
   "execution_count": null,
   "metadata": {},
   "outputs": [],
   "source": []
  },
  {
   "cell_type": "markdown",
   "metadata": {},
   "source": [
    "![array](array-romersk.png)\n",
    "\n",
    "## Litt om lister og arrayer i Python\n",
    "\n",
    "Lister i Python er en type variabel som kan inneholde flere elementer. Elementene i en liste kan være av ulik type. For eksempel kan en liste inneholde både tall og tekst.\n",
    "\n",
    "```python\n",
    "liste = [1, 2, 3, 4, 5]\n",
    "```\n",
    "\n",
    "Arrayer i Python er en type variabel som kan inneholde flere elementer. Elementene i en array må være av samme type. For eksempel kan en array inneholde kun tall.\n",
    "\n",
    "```python\n",
    "import numpy as np\n",
    "array = np.array([1, 2, 3, 4, 5])\n",
    "```\n",
    "\n",
    "\n"
   ]
  },
  {
   "cell_type": "code",
   "execution_count": null,
   "metadata": {},
   "outputs": [],
   "source": []
  },
  {
   "cell_type": "code",
   "execution_count": null,
   "metadata": {},
   "outputs": [],
   "source": []
  },
  {
   "cell_type": "code",
   "execution_count": null,
   "metadata": {},
   "outputs": [],
   "source": []
  },
  {
   "cell_type": "markdown",
   "metadata": {},
   "source": [
    "| Kode                | Forklaring                                           |\n",
    "|---------------------|------------------------------------------------------|\n",
    "| `L[i]`              | Plukker ut element nr i                              |\n",
    "| `L[-1]`             | Det siste elementet i L                              |\n",
    "| `L[i:j]`            | Elementene med indeks fra og med i til j             |\n",
    "| `L[i::j]`           | Elementene med indeks fra og med indeks i, der indeksen øker med j til indeksen er høyere enn antall element i listen |\n",
    "| `L.append(a)`       | Legger a til i listen som siste element              |\n",
    "| `len(L)`            | Antall elementer i L                                 |\n",
    "| `L.sort()`          | Sorterer liste i stigende rekkefølge                 |\n",
    "| `L.sort(reverse=True)` | Sorterer liste i synkende rekkefølge               |\n",
    "| `L.pop()`           | Fjerner siste element fra listen                     |\n",
    "| `L.pop(i)`          | Fjerner element med indeks i fra listen              |\n",
    "| `L.remove(a)`       | Fjerner første forekomst av a fra listen             |\n",
    "| `del L[i]`          | Fjerner element med indeks i fra listen.             |\n",
    "| `L.reverse()`       | Snur rekkefølgen på elementene i listen              |\n",
    "| `max(L)`            | Gir største tall i listen                            |\n",
    "| `min(L)`            | Gir minste tall i listen                             |\n",
    "| `sum(L)`            | Summerer elementene i listen                         |\n"
   ]
  },
  {
   "cell_type": "code",
   "execution_count": null,
   "metadata": {},
   "outputs": [],
   "source": []
  },
  {
   "cell_type": "code",
   "execution_count": null,
   "metadata": {},
   "outputs": [],
   "source": []
  },
  {
   "cell_type": "code",
   "execution_count": null,
   "metadata": {},
   "outputs": [],
   "source": []
  },
  {
   "cell_type": "markdown",
   "metadata": {},
   "source": [
    "De viktiste funksjonene for arrayer er:\n",
    "\n",
    "\n",
    "| Funkjon                   | Beskrivelse                                         |\n",
    "|---------------------------|-------------------------------------------------------|\n",
    "| `np.array(L)`             | Oppretter en array fra en liste `L`                     |\n",
    "| `np.arange(a, b, c)`      | Oppretter en array med tall fra `a` til `b` med steglengde `c`  |\n",
    "| `np.linspace(a, b, n)`    | Oppretter en array med `n` tall fra `a` til `b`            |\n",
    "| `np.zeros(n)`             | Oppretter en array med `n` nuller                          |\n",
    "| `np.ones(n)`              | Oppretter en array med `n` enere                           |\n",
    "| `np.random.rand(n)`       | Oppretter en array med `n` tilfeldige tall mellom 0 og 1 |\n",
    "| `np.random.randint(a, b, n)` | Oppretter en array med `n` tilfeldige heltall fra `a` til `b`     |\n",
    "| `np.max(A)`               | Returnerer den største verdien i `A`                         |\n",
    "| `np.min(A)`               | Returnerer den minste verdien i `A`                         |\n",
    "| `np.sum(A)`               | Returnerer summen av elementene i `A`                       |\n",
    "| `np.sort(A)`              | Sorterer `A` i stigende rekkefølge                             |\n",
    "\n"
   ]
  },
  {
   "cell_type": "code",
   "execution_count": null,
   "metadata": {},
   "outputs": [],
   "source": []
  },
  {
   "cell_type": "markdown",
   "metadata": {},
   "source": [
    "![](python2.png)\n",
    "\n",
    "### Eksempel 3: Plotte flere grafer i samme koordinatsystem\n",
    "\n",
    "Funksjonene $f$ og $g$ er gitt ved $f(x) = x^2 - 3x + 2$ og $g(x) = -x^2 + 3x - 2$.\n",
    "\n",
    "Tegn grafene til $f$ og $g$ for $x \\in [-1, 4]$ i samme koordinatsystem."
   ]
  },
  {
   "cell_type": "code",
   "execution_count": null,
   "metadata": {},
   "outputs": [],
   "source": []
  },
  {
   "cell_type": "code",
   "execution_count": null,
   "metadata": {},
   "outputs": [],
   "source": []
  },
  {
   "cell_type": "code",
   "execution_count": null,
   "metadata": {},
   "outputs": [],
   "source": []
  },
  {
   "cell_type": "code",
   "execution_count": null,
   "metadata": {},
   "outputs": [],
   "source": []
  },
  {
   "cell_type": "markdown",
   "metadata": {},
   "source": [
    "![](bilde1.png)\n",
    "\n",
    "## Søylediagrammer \n",
    "\n",
    "\n",
    "![](Temparturer.png)\n",
    "\n",
    "### Eksempel 4: Lage søylediagram\n",
    "\n",
    "\n",
    "Lag en grafisk representasjon av tallene i tabellen:\n",
    "\n",
    "| Klokkeslett        | 0.00 | 2.00 | 4.00 | 6.00 | 8.00 | 10.00 | 12.00 | 14.00 | 16.00 | 18.00 | 20.00 | 22.00 |\n",
    "|--------------------|------|------|------|------|------|-------|-------|-------|-------|-------|-------|-------|\n",
    "| Temperatur Leirvik | 12   | 10   | 9    | 11   | 14   | 15    | 18    | 21    | 22    | 21    | 18    | 15    |\n",
    "| Temperatur Bergen  | 10   | 9    | 10   | 11   | 10   | 14    | 17    | 22    | 23    | 24    | 15    | 14    |"
   ]
  },
  {
   "cell_type": "code",
   "execution_count": 58,
   "metadata": {},
   "outputs": [],
   "source": [
    "\n",
    "TempLeirvik = [12, 10, 9, 11, 14, 15, 18, 21, 22, 21, 18, 15]\n",
    "TempBergen  = [10, 9, 10, 11, 10, 14, 17, 22, 23, 24, 15, 14]\n",
    "\n"
   ]
  },
  {
   "cell_type": "code",
   "execution_count": null,
   "metadata": {},
   "outputs": [],
   "source": []
  },
  {
   "cell_type": "code",
   "execution_count": null,
   "metadata": {},
   "outputs": [],
   "source": []
  },
  {
   "cell_type": "markdown",
   "metadata": {},
   "source": [
    "### Eksempel 5\n",
    "\n",
    "Tabellen nedenfor viser antall ansatte lærere i Vestland fylke for noen år. \n",
    "\n",
    "Lag grafisk illustrasjoner av  tallene i tabellen:\n",
    "\n",
    "| Årstall   |  2017   |  2018 | 2019  | 2020 | 2021 | 2022 |\n",
    "|-----------|---------|-------|-------|------|------|------|\n",
    "| Menn:     | 1496    |  1404 | 1430  | 1376 | 1413 | 1431 |\n",
    "| Kvinner   | 1596    |  1598 | 1633  | 1620 | 1616 | 1429 |\n",
    "\n",
    "Kilde: [udir.no](https://www.udir.no/tall-og-forskning/statistikk/statistikk-videregaende-skole/larere-videregaende-skole/)\n"
   ]
  },
  {
   "cell_type": "code",
   "execution_count": 59,
   "metadata": {},
   "outputs": [],
   "source": [
    "\n",
    "Menn = [1406,1404 , 1430 , 1376 ,1413 , 1431]\n",
    "Kvinner = [1596, 1598, 1622, 1620 , 1616 , 1429]\n",
    "\n"
   ]
  },
  {
   "cell_type": "code",
   "execution_count": null,
   "metadata": {},
   "outputs": [],
   "source": []
  },
  {
   "cell_type": "code",
   "execution_count": null,
   "metadata": {},
   "outputs": [],
   "source": []
  },
  {
   "cell_type": "markdown",
   "metadata": {},
   "source": [
    "## Sektordiagrammer\n",
    "\n",
    "### Eksempel 6  \n",
    "\n",
    "Lag et sekstordiagram som illusterer tallene i tabellen: \n",
    "\n",
    "| Sted       | Folketall |\n",
    "|------------|-----------|\n",
    "| Stord      | 19287     |\n",
    "| Fitjar     | 3203      |\n",
    "| Kvinnherad | 13089     |\n",
    "| Etne       | 4072      |\n",
    "| Austevoll  | 5300      |\n",
    "| Bømlo      | 12268     |\n",
    "| Tysnes     | 2922      |\n",
    "| Sveio      | 5742      |"
   ]
  },
  {
   "cell_type": "code",
   "execution_count": 60,
   "metadata": {},
   "outputs": [],
   "source": [
    "\n",
    "\n",
    "Kommuner = [\"Stord\", \"Fitjar\", \"Kvinnherat\", \"Etne\", \"Austevoll\", \"Bømlo\", \"Tysnes\", \"Sveio\"] \n",
    "Innbyggere = [19287, 3203, 13089, 4072, 5300, 12268, 2922, 5742]\n"
   ]
  },
  {
   "cell_type": "code",
   "execution_count": null,
   "metadata": {},
   "outputs": [],
   "source": []
  },
  {
   "cell_type": "markdown",
   "metadata": {},
   "source": [
    "![](histo.png) \n",
    "\n",
    "## Histogram\n",
    "\n",
    "### Eksempel 7\n",
    "\n",
    "Nedenfor ser du alderen til personalet ved en skole: \n",
    "\n",
    "    36, 25, 38, 46, 55, 68, 52, 55, 36, 38 \n",
    "    67, 45, 22, 48, 41, 46, 52, 61, 58, 55\n",
    "\n",
    "Illustrer tallene i et historgram. Velg selv grenser."
   ]
  },
  {
   "cell_type": "code",
   "execution_count": null,
   "metadata": {},
   "outputs": [],
   "source": []
  },
  {
   "cell_type": "code",
   "execution_count": null,
   "metadata": {},
   "outputs": [],
   "source": []
  },
  {
   "cell_type": "code",
   "execution_count": null,
   "metadata": {},
   "outputs": [],
   "source": []
  },
  {
   "cell_type": "code",
   "execution_count": null,
   "metadata": {},
   "outputs": [],
   "source": []
  },
  {
   "cell_type": "markdown",
   "metadata": {},
   "source": [
    "### Eksempel 8\n",
    "\n",
    "Høyden til 20 personer er gitt ved: \n",
    "\n",
    "```python\n",
    "184.3, 196.5, 189.0, 190.0, 180.5, \n",
    "187.8, 186.7, 167.5, 183.3, 170.5, \n",
    "180.5, 182.4, 183.7, 176.5, 174.4, \n",
    "185.8, 185.4, 183.4, 182.7, 182.5\n",
    "```\n",
    "\n",
    "a) Regn ut gjennomsnittshøyden og standardavviket til høydene. \n",
    "\n",
    "b) Illustrer høydene i et histogram. Bruk grensene 170, 175, 180, 185, 190. \n"
   ]
  },
  {
   "cell_type": "code",
   "execution_count": 61,
   "metadata": {},
   "outputs": [],
   "source": [
    "Høyder = [\n",
    "    184.3, 196.5, 189.0, 190.0, 180.5, \n",
    "    187.8, 186.7, 167.5, 183.3, 170.5, \n",
    "    180.5, 182.4, 183.7, 176.5, 174.4, \n",
    "    185.8, 185.4, 183.4, 182.7, 182.5 \n",
    "    ]\n",
    "\n"
   ]
  },
  {
   "cell_type": "code",
   "execution_count": null,
   "metadata": {},
   "outputs": [],
   "source": []
  },
  {
   "cell_type": "code",
   "execution_count": null,
   "metadata": {},
   "outputs": [],
   "source": []
  },
  {
   "cell_type": "markdown",
   "metadata": {},
   "source": []
  }
 ],
 "metadata": {
  "kernelspec": {
   "display_name": "base",
   "language": "python",
   "name": "python3"
  },
  "language_info": {
   "codemirror_mode": {
    "name": "ipython",
    "version": 3
   },
   "file_extension": ".py",
   "mimetype": "text/x-python",
   "name": "python",
   "nbconvert_exporter": "python",
   "pygments_lexer": "ipython3",
   "version": "3.11.5"
  }
 },
 "nbformat": 4,
 "nbformat_minor": 2
}
